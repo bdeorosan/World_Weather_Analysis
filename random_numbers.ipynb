{
 "cells": [
  {
   "cell_type": "code",
   "execution_count": 1,
   "id": "43fc1fd4",
   "metadata": {},
   "outputs": [],
   "source": [
    "# Import the random module.\n",
    "import random"
   ]
  },
  {
   "cell_type": "code",
   "execution_count": 4,
   "id": "9e1da096",
   "metadata": {},
   "outputs": [
    {
     "data": {
      "text/plain": [
       "0.8608390413813325"
      ]
     },
     "execution_count": 4,
     "metadata": {},
     "output_type": "execute_result"
    }
   ],
   "source": [
    "random.random()"
   ]
  },
  {
   "cell_type": "code",
   "execution_count": 6,
   "id": "23f9e8a3",
   "metadata": {},
   "outputs": [
    {
     "data": {
      "text/plain": [
       "[67.0164677089566,\n",
       " -4.762947939597387,\n",
       " -80.98945299423283,\n",
       " -38.1704266157163,\n",
       " 72.63337914354904,\n",
       " 35.06913303678353,\n",
       " 8.690691111320211,\n",
       " 56.745668026186884,\n",
       " 57.27181845011251,\n",
       " -50.636121463466324]"
      ]
     },
     "execution_count": 6,
     "metadata": {},
     "output_type": "execute_result"
    }
   ],
   "source": [
    "x = 1\n",
    "latitudes = []\n",
    "while x < 11:\n",
    "    random_lat = random.randint(-90, 89) + random.random()\n",
    "    latitudes.append(random_lat)\n",
    "    x += 1\n",
    "    \n",
    "latitudes"
   ]
  },
  {
   "cell_type": "code",
   "execution_count": 7,
   "id": "2ca959a8",
   "metadata": {},
   "outputs": [],
   "source": [
    "# Import the NumPy module.\n",
    "import numpy as np"
   ]
  },
  {
   "cell_type": "code",
   "execution_count": 8,
   "id": "8a0abfee",
   "metadata": {
    "scrolled": true
   },
   "outputs": [
    {
     "data": {
      "text/plain": [
       "-77.13841456828423"
      ]
     },
     "execution_count": 8,
     "metadata": {},
     "output_type": "execute_result"
    }
   ],
   "source": [
    "np.random.uniform(-90.000, 90.000)"
   ]
  },
  {
   "cell_type": "code",
   "execution_count": 9,
   "id": "741cc81b",
   "metadata": {},
   "outputs": [
    {
     "data": {
      "text/plain": [
       "array([-16.45740781, -52.13088426,  15.48699249, -38.2669286 ,\n",
       "       -54.86811259,   6.16644555,  35.65669128,  15.67118681,\n",
       "        24.81873871,  45.96568388, -15.68302476, -66.70096361,\n",
       "        44.06850932, -54.27069983,  89.58285337,  -0.54952718,\n",
       "       -49.56113522,  59.06913092,  67.41628143,  79.16290119,\n",
       "       -51.34865481, -80.90196774,  38.5476053 ,  16.31834821,\n",
       "        78.19076047,   4.03217355,  31.19911479, -47.35729299,\n",
       "       -37.91282536, -72.1799521 ,  44.80716424,  46.69957169,\n",
       "        75.8005005 , -30.86921238,  41.35417314,  -8.49224408,\n",
       "       -58.77924331, -70.9986842 , -22.04863693,  24.01193665,\n",
       "        41.78008544,  50.28711346, -77.6605334 , -46.83466463,\n",
       "       -11.9930286 ,  37.92674138, -88.7975694 ,   7.50213239,\n",
       "       -31.77654102,   3.69759163])"
      ]
     },
     "execution_count": 9,
     "metadata": {},
     "output_type": "execute_result"
    }
   ],
   "source": [
    "np.random.uniform(-90.000, 90.000, size=50)"
   ]
  },
  {
   "cell_type": "code",
   "execution_count": 10,
   "id": "3d52f452",
   "metadata": {},
   "outputs": [],
   "source": [
    "# Import timeit.\n",
    "import timeit"
   ]
  },
  {
   "cell_type": "code",
   "execution_count": 11,
   "id": "047d4e6f",
   "metadata": {},
   "outputs": [
    {
     "name": "stdout",
     "output_type": "stream",
     "text": [
      "12.7 µs ± 42 ns per loop (mean ± std. dev. of 7 runs, 100000 loops each)\n"
     ]
    }
   ],
   "source": [
    "%timeit np.random.uniform(-90.000, 90.000, size=1500)"
   ]
  },
  {
   "cell_type": "code",
   "execution_count": 12,
   "id": "1de0683c",
   "metadata": {},
   "outputs": [
    {
     "name": "stdout",
     "output_type": "stream",
     "text": [
      "1.26 ms ± 4.48 µs per loop (mean ± std. dev. of 7 runs, 1000 loops each)\n"
     ]
    }
   ],
   "source": [
    "def latitudes(size):\n",
    "    latitudes = []\n",
    "    x = 0\n",
    "    while x < (size):\n",
    "        random_lat = random.randint(-90, 90) + random.random()\n",
    "        latitudes.append(random_lat)\n",
    "        x += 1\n",
    "    return latitudes\n",
    "# Call the function with 1500.\n",
    "%timeit latitudes(1500)"
   ]
  }
 ],
 "metadata": {
  "kernelspec": {
   "display_name": "Python 3",
   "language": "python",
   "name": "python3"
  },
  "language_info": {
   "codemirror_mode": {
    "name": "ipython",
    "version": 3
   },
   "file_extension": ".py",
   "mimetype": "text/x-python",
   "name": "python",
   "nbconvert_exporter": "python",
   "pygments_lexer": "ipython3",
   "version": "3.8.8"
  }
 },
 "nbformat": 4,
 "nbformat_minor": 5
}
